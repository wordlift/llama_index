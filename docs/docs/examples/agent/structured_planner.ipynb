{
 "cells": [
  {
   "cell_type": "markdown",
   "metadata": {},
   "source": [
    "# Structured Planning Agent\n",
    "\n",
    "A key pattern in agents is the ability to plan. ReAct for example, uses a structured approach to decompose an input into a set of function calls and thoughts, in order to reason about a final response.\n",
    "\n",
    "However, breaking down the initial input/task into several sub-tasks can make the ReAct loop (or other reasoning loops) easier to execute.\n",
    "\n",
    "The `StructuredPlanningAgnet` in LlamaIndex wraps any agent worker (ReAct, Function Calling, Chain-of-Abstraction, etc.) and decomposes an initial input into several sub-tasks. Each sub-task is represented by an input, expected outcome, and any dependendant sub-tasks that should be completed first.\n",
    "\n",
    "This notebook walks through both the high-level and low-level usage of this agent.\n",
    "\n",
    "**NOTE:** This agent leverages both structured outputs and agentic reasoning. Because of this, we would recommend a capable LLM (OpenAI, Anthropic, etc.), and open-source LLMs may struggle to plan without prompt engineering or fine-tuning."
   ]
  },
  {
   "cell_type": "markdown",
   "metadata": {},
   "source": [
    "## Setup\n",
    "\n",
    "In order to create plans, we need a set of tools to create plans on top of. Here, we use some classic 10k examples."
   ]
  },
  {
   "cell_type": "code",
   "execution_count": null,
   "metadata": {},
   "outputs": [],
   "source": [
    "!mkdir -p 'data/10k/'\n",
    "!wget 'https://raw.githubusercontent.com/run-llama/llama_index/main/docs/docs/examples/data/10k/uber_2021.pdf' -O 'data/10k/uber_2021.pdf'\n",
    "!wget 'https://raw.githubusercontent.com/run-llama/llama_index/main/docs/docs/examples/data/10k/lyft_2021.pdf' -O 'data/10k/lyft_2021.pdf'"
   ]
  },
  {
   "cell_type": "code",
   "execution_count": null,
   "metadata": {},
   "outputs": [],
   "source": [
    "import os\n",
    "\n",
    "os.environ[\"OPENAI_API_KEY\"] = \"sk-...\""
   ]
  },
  {
   "cell_type": "code",
   "execution_count": null,
   "metadata": {},
   "outputs": [],
   "source": [
    "from llama_index.core import Settings\n",
    "from llama_index.llms.openai import OpenAI\n",
    "from llama_index.embeddings.openai import OpenAIEmbedding\n",
    "\n",
    "# Use ollama in JSON mode\n",
    "Settings.llm = OpenAI(\n",
    "    model=\"gpt-4-turbo\",\n",
    "    temperature=0.1,\n",
    ")\n",
    "Settings.embed_model = OpenAIEmbedding(model_name=\"text-embedding-3-small\")"
   ]
  },
  {
   "cell_type": "code",
   "execution_count": null,
   "metadata": {},
   "outputs": [],
   "source": [
    "from llama_index.core import VectorStoreIndex, SimpleDirectoryReader\n",
    "from llama_index.core.tools import QueryEngineTool\n",
    "\n",
    "# Load documents, create tools\n",
    "lyft_documents = SimpleDirectoryReader(\n",
    "    input_files=[\"./data/10k/lyft_2021.pdf\"]\n",
    ").load_data()\n",
    "uber_documents = SimpleDirectoryReader(\n",
    "    input_files=[\"./data/10k/uber_2021.pdf\"]\n",
    ").load_data()\n",
    "\n",
    "lyft_index = VectorStoreIndex.from_documents(lyft_documents)\n",
    "uber_index = VectorStoreIndex.from_documents(uber_documents)\n",
    "\n",
    "lyft_tool = QueryEngineTool.from_defaults(\n",
    "    lyft_index.as_query_engine(),\n",
    "    name=\"lyft_2021\",\n",
    "    description=\"Useful for asking questions about Lyft's 2021 10-K filling.\",\n",
    ")\n",
    "\n",
    "uber_tool = QueryEngineTool.from_defaults(\n",
    "    uber_index.as_query_engine(),\n",
    "    name=\"uber_2021\",\n",
    "    description=\"Useful for asking questions about Uber's 2021 10-K filling.\",\n",
    ")"
   ]
  },
  {
   "cell_type": "markdown",
   "metadata": {},
   "source": [
    "## High Level API\n",
    "\n",
    "In this section, we cover the high-level API for creating with and chatting with a structured planning agent.\n",
    "\n",
    "### Create the Agent"
   ]
  },
  {
   "cell_type": "code",
   "execution_count": null,
   "metadata": {},
   "outputs": [],
   "source": [
    "from llama_index.core.agent import (\n",
    "    StructuredPlannerAgent,\n",
    "    FunctionCallingAgentWorker,\n",
    "    ReActAgentWorker,\n",
    ")\n",
    "\n",
    "# create the function calling worker for reasoning\n",
    "worker = FunctionCallingAgentWorker.from_tools(\n",
    "    [lyft_tool, uber_tool], verbose=True\n",
    ")\n",
    "\n",
    "# wrap the worker in the top-level planner\n",
    "agent = StructuredPlannerAgent(\n",
    "    worker, tools=[lyft_tool, uber_tool], verbose=True\n",
    ")"
   ]
  },
  {
   "cell_type": "markdown",
   "metadata": {},
   "source": [
    "### Give the agent a complex task"
   ]
  },
  {
   "cell_type": "code",
   "execution_count": null,
   "metadata": {},
   "outputs": [],
   "source": [
    "import nest_asyncio\n",
    "\n",
    "nest_asyncio.apply()"
   ]
  },
  {
   "cell_type": "code",
   "execution_count": null,
   "metadata": {},
   "outputs": [
    {
     "name": "stdout",
     "output_type": "stream",
     "text": [
      "=== Initial plan ===\n",
      "Extract Lyft Risk Factors:\n",
      "Summarize the key risk factors from Lyft's 2021 10-K filing. -> A summary of the key risk factors for Lyft as outlined in their 2021 10-K filing.\n",
      "deps: []\n",
      "\n",
      "\n",
      "Extract Uber Risk Factors:\n",
      "Summarize the key risk factors from Uber's 2021 10-K filing. -> A summary of the key risk factors for Uber as outlined in their 2021 10-K filing.\n",
      "deps: []\n",
      "\n",
      "\n",
      "Combine Risk Factors Summaries:\n",
      "Combine the summaries of key risk factors for Lyft and Uber from their 2021 10-K filings into a comprehensive overview. -> A comprehensive summary of the key risk factors for both Lyft and Uber as outlined in their respective 2021 10-K filings.\n",
      "deps: ['Extract Lyft Risk Factors', 'Extract Uber Risk Factors']\n",
      "\n",
      "\n",
      "> Running step a1428164-9f35-4a0e-9d6d-3328ebe490d4. Step input: Summarize the key risk factors from Lyft's 2021 10-K filing.\n",
      "Added user message to memory: Summarize the key risk factors from Lyft's 2021 10-K filing.\n",
      "> Running step 16a0d1f5-03ba-4b47-af0f-ec8758e6dda7. Step input: Summarize the key risk factors from Uber's 2021 10-K filing.\n",
      "Added user message to memory: Summarize the key risk factors from Uber's 2021 10-K filing.\n",
      "=== Calling Function ===\n",
      "Calling function: lyft_2021 with args: {\"input\": \"key risk factors\"}\n",
      "=== Calling Function ===\n",
      "Calling function: uber_2021 with args: {\"input\": \"What are the key risk factors mentioned in the 2021 10-K filing?\"}\n",
      "=== Function Output ===\n",
      "The key risk factors mentioned in the 2021 10-K filing include:\n",
      "\n",
      "1. The potential adverse effects of the COVID-19 pandemic on the business.\n",
      "2. The risk associated with the classification of drivers as employees or quasi-employees instead of independent contractors.\n",
      "3. Intense competition in the mobility, delivery, and logistics industries, which feature low barriers to entry, low switching costs, and well-capitalized competitors.\n",
      "4. The possibility of having to lower fares or service fees and offer significant driver incentives and consumer discounts to remain competitive.\n",
      "5. Historical financial losses and the expectation of significant increases in operating expenses, which may prevent the company from achieving or maintaining profitability.\n",
      "6. The necessity of attracting and maintaining a critical mass of drivers, consumers, merchants, shippers, and carriers to keep the platform appealing.\n",
      "7. The importance of maintaining and enhancing the company's brand and reputation, especially following significant negative publicity in the past.\n",
      "8. Challenges related to the company's historical workplace culture and the ongoing efforts to address these issues.\n",
      "9. The need to optimize the organizational structure and effectively manage growth to ensure good financial performance and future prospects.\n",
      "> Running step 85dc3f14-7c78-4759-88d6-1e9b071c1059. Step input: None\n",
      "=== Function Output ===\n",
      "The key risk factors for investing in Lyft's Class A common stock include:\n",
      "\n",
      "1. General economic factors such as the impact of the COVID-19 pandemic, natural disasters, economic downturns, public health crises, and political crises.\n",
      "2. Operational factors including Lyft's limited operating history, the unpredictability of financial performance and results of operations, competition in the industry, and uncertainty regarding the growth of the ridesharing market.\n",
      "3. The company's ability to attract and retain qualified drivers and riders, manage insurance coverage and reserves, and handle claims through third-party insurance providers.\n",
      "4. Challenges related to autonomous vehicle technology and the development of the autonomous vehicle industry.\n",
      "5. The company's reputation, brand, and company culture, as well as the potential for illegal or improper activity by users of the platform.\n",
      "6. The accuracy of background checks on potential or current drivers, changes to pricing practices, and the growth and quality of Lyft's network of Light Vehicles.\n",
      "7. Security or privacy breaches, system failures, and reliance on third parties such as Amazon Web Services, vehicle rental partners, and payment processors.\n",
      "8. The ability to operate and manage Lyft's Express Drive and Lyft Rentals programs, delivery service platform, and the effectiveness of matching riders in Shared and Shared Saver Rides offerings.\n",
      "9. The development of new offerings on the platform and managing the complexities associated with such expansion.\n",
      "> Running step 8705c8fa-e764-460c-a849-a5f7851e454b. Step input: None\n",
      "=== LLM Response ===\n",
      "The key risk factors mentioned in Uber's 2021 10-K filing include:\n",
      "\n",
      "1. **COVID-19 Pandemic Impact:** The ongoing adverse effects of the COVID-19 pandemic on the business.\n",
      "2. **Driver Classification:** Risks associated with the classification of drivers as employees or quasi-employees instead of independent contractors.\n",
      "3. **Intense Competition:** The competitive nature of the mobility, delivery, and logistics industries, which have low barriers to entry, low switching costs, and well-capitalized competitors.\n",
      "4. **Pricing and Incentives:** The need to potentially lower fares or service fees and offer significant driver incentives and consumer discounts to remain competitive.\n",
      "5. **Financial Losses:** Historical financial losses and expected significant increases in operating expenses, which may prevent the company from achieving or maintaining profitability.\n",
      "6. **Platform Appeal:** The necessity of attracting and maintaining a critical mass of drivers, consumers, merchants, shippers, and carriers to keep the platform appealing.\n",
      "7. **Brand and Reputation:** The importance of maintaining and enhancing the company's brand and reputation, particularly in light of significant negative publicity in the past.\n",
      "8. **Workplace Culture:** Challenges related to the company's historical workplace culture and the ongoing efforts to address these issues.\n",
      "9. **Organizational Structure:** The need to optimize the organizational structure and effectively manage growth to ensure good financial performance and future prospects.\n",
      "=== LLM Response ===\n",
      "The key risk factors from Lyft's 2021 10-K filing include:\n",
      "\n",
      "1. **Economic and Public Health Factors**: Risks related to general economic conditions, the impact of the COVID-19 pandemic, natural disasters, economic downturns, public health crises, and political crises.\n",
      "2. **Operational Factors**: Lyft's limited operating history, unpredictability of financial performance, competition in the industry, and uncertainty regarding the growth of the ridesharing market.\n",
      "3. **Driver and Rider Dynamics**: Challenges in attracting and retaining qualified drivers and riders, managing insurance coverage and reserves, and handling claims through third-party insurance providers.\n",
      "4. **Autonomous Vehicle Technology**: Challenges related to the development of autonomous vehicle technology and the autonomous vehicle industry.\n",
      "5. **Company Reputation and Culture**: Risks associated with the company's reputation, brand, company culture, and potential illegal or improper activity by platform users.\n",
      "6. **Background Checks and Pricing Practices**: The accuracy of background checks on potential or current drivers, changes to pricing practices, and the growth and quality of Lyft's network of Light Vehicles.\n",
      "7. **Security and Privacy**: Security or privacy breaches, system failures, and reliance on third parties such as Amazon Web Services, vehicle rental partners, and payment processors.\n",
      "8. **Program Management**: The ability to operate and manage Lyft's Express Drive and Lyft Rentals programs, delivery service platform, and the effectiveness of matching riders in Shared and Shared Saver Rides offerings.\n",
      "9. **Expansion and New Offerings**: The development of new offerings on the platform and managing the complexities associated with such expansion.\n",
      "=== Refined plan ===\n",
      "Combine Risk Factors Summaries:\n",
      "Combine the summaries of key risk factors for Lyft and Uber from their 2021 10-K filings into a comprehensive overview. -> A comprehensive summary of the key risk factors for both Lyft and Uber as outlined in their respective 2021 10-K filings.\n",
      "deps: ['Extract Lyft Risk Factors', 'Extract Uber Risk Factors']\n",
      "\n",
      "\n",
      "Summarize Key Risk Factors:\n",
      "Summarize the combined risk factors from Lyft and Uber into a concise and comprehensive overview. -> A concise and comprehensive summary of the key risk factors for both Lyft and Uber as outlined in their respective 2021 10-K filings.\n",
      "deps: ['Combine Risk Factors Summaries']\n",
      "\n",
      "\n",
      "> Running step 874c8c34-3720-4d6f-bde1-7064e18a6433. Step input: Combine the summaries of key risk factors for Lyft and Uber from their 2021 10-K filings into a comprehensive overview.\n",
      "Added user message to memory: Combine the summaries of key risk factors for Lyft and Uber from their 2021 10-K filings into a comprehensive overview.\n",
      "=== LLM Response ===\n",
      "The key risk factors from the 2021 10-K filings of Lyft and Uber provide a comprehensive overview of the challenges faced by both companies in the ridesharing and broader mobility industry:\n",
      "\n",
      "1. **COVID-19 and Economic Conditions**: Both companies highlight the adverse effects of the COVID-19 pandemic and general economic conditions, including economic downturns and public health crises, which impact their operations and market demand.\n",
      "\n",
      "2. **Regulatory and Classification Issues**: Uber specifically mentions the risk associated with the classification of drivers as employees or quasi-employees instead of independent contractors, which is a significant issue for the industry.\n",
      "\n",
      "3. **Competition and Market Conditions**: Both companies face intense competition in the mobility, delivery, and logistics industries, characterized by low barriers to entry, low switching costs, and well-capitalized competitors. Lyft also notes the unpredictability of financial performance and the uncertainty regarding the growth of the ridesharing market.\n",
      "\n",
      "4. **Operational Challenges**: Lyft discusses its limited operating history and the challenges of managing insurance and claims, while Uber emphasizes the need to attract and maintain a critical mass of drivers, consumers, merchants, shippers, and carriers.\n",
      "\n",
      "5. **Technological Advancements**: Lyft addresses challenges related to autonomous vehicle technology and the development of the autonomous vehicle industry, which are crucial for future growth and competition.\n",
      "\n",
      "6. **Brand and Reputation**: Both companies stress the importance of maintaining and enhancing their brand and reputation. Uber specifically mentions the need to address historical workplace culture issues, while Lyft highlights the potential for illegal or improper activity by users.\n",
      "\n",
      "7. **Financial Sustainability**: Uber discusses its historical financial losses and the significant increases in operating expenses that may prevent profitability. Lyft also faces similar financial unpredictability.\n",
      "\n",
      "8. **Security and Privacy**: Lyft mentions risks related to security or privacy breaches and system failures, emphasizing their reliance on third parties like Amazon Web Services and payment processors.\n",
      "\n",
      "9. **Service Management and Expansion**: Lyft discusses the management of specific programs like Express Drive and Lyft Rentals, and the development of new offerings. Uber highlights the necessity of optimizing its organizational structure to manage growth effectively.\n",
      "\n",
      "This combined overview underscores the shared and unique challenges faced by Lyft and Uber as they navigate regulatory landscapes, technological advancements, competitive pressures, and the need for operational efficiency and innovation in a rapidly evolving industry.\n",
      "=== Refined plan ===\n",
      "Summarize Key Risk Factors:\n",
      "Summarize the combined risk factors from Lyft and Uber into a concise and comprehensive overview. -> A concise and comprehensive summary of the key risk factors for both Lyft and Uber as outlined in their respective 2021 10-K filings.\n",
      "deps: ['Combine Risk Factors Summaries']\n",
      "\n",
      "\n",
      "> Running step 8a452cd1-a940-47e8-82a1-277523d689eb. Step input: Summarize the combined risk factors from Lyft and Uber into a concise and comprehensive overview.\n",
      "Added user message to memory: Summarize the combined risk factors from Lyft and Uber into a concise and comprehensive overview.\n",
      "=== LLM Response ===\n",
      "The combined key risk factors from the 2021 10-K filings of Lyft and Uber highlight several shared and distinct challenges in the ridesharing and mobility industry:\n",
      "\n",
      "1. **Pandemic and Economic Impact**: Both companies are significantly affected by the COVID-19 pandemic and broader economic conditions, which influence market demand and operational stability.\n",
      "\n",
      "2. **Regulatory and Labor Issues**: A major concern is the classification of drivers as independent contractors versus employees, impacting labor costs and operational flexibility.\n",
      "\n",
      "3. **Intense Competition**: They face fierce competition in the mobility, delivery, and logistics sectors, characterized by low entry barriers and aggressive, well-funded competitors.\n",
      "\n",
      "4. **Operational and Financial Uncertainty**: Both companies deal with financial unpredictability and operational challenges, including managing insurance, claims, and maintaining profitability amidst high expenses.\n",
      "\n",
      "5. **Technological and Service Evolution**: Challenges in adopting new technologies like autonomous vehicles and expanding service offerings are crucial for staying competitive and managing growth.\n",
      "\n",
      "6. **Brand and Reputation Management**: Maintaining a positive brand image and company culture is vital, especially given past issues and the potential for user misconduct.\n",
      "\n",
      "7. **Security and Privacy Concerns**: Risks related to data breaches, system failures, and dependency on third-party services like cloud providers and payment processors are significant.\n",
      "\n",
      "This overview encapsulates the multifaceted risks that Lyft and Uber face, emphasizing the need for strategic management and innovation to navigate a complex, rapidly changing industry landscape.\n",
      "=== Refined plan ===\n",
      "Summarize Key Risk Factors:\n",
      "Summarize the key risk factors for Lyft and Uber in their 2021 10-K filings. -> The combined key risk factors from the 2021 10-K filings of Lyft and Uber highlight several shared and distinct challenges in the ridesharing and mobility industry:\n",
      "\n",
      "1. **Pandemic and Economic Impact**: Both companies are significantly affected by the COVID-19 pandemic and broader economic conditions, which influence market demand and operational stability.\n",
      "\n",
      "2. **Regulatory and Labor Issues**: A major concern is the classification of drivers as independent contractors versus employees, impacting labor costs and operational flexibility.\n",
      "\n",
      "3. **Intense Competition**: They face fierce competition in the mobility, delivery, and logistics sectors, characterized by low entry barriers and aggressive, well-funded competitors.\n",
      "\n",
      "4. **Operational and Financial Uncertainty**: Both companies deal with financial unpredictability and operational challenges, including managing insurance, claims, and maintaining profitability amidst high expenses.\n",
      "\n",
      "5. **Technological and Service Evolution**: Challenges in adopting new technologies like autonomous vehicles and expanding service offerings are crucial for staying competitive and managing growth.\n",
      "\n",
      "6. **Brand and Reputation Management**: Maintaining a positive brand image and company culture is vital, especially given past issues and the potential for user misconduct.\n",
      "\n",
      "7. **Security and Privacy Concerns**: Risks related to data breaches, system failures, and dependency on third-party services like cloud providers and payment processors are significant.\n",
      "\n",
      "This overview encapsulates the multifaceted risks that Lyft and Uber face, emphasizing the need for strategic management and innovation to navigate a complex, rapidly changing industry landscape.\n",
      "deps: []\n",
      "\n",
      "\n"
     ]
    }
   ],
   "source": [
    "response = agent.chat(\n",
    "    \"Summarize the key risk factors for Lyft and Uber in their 2021 10-K filings.\"\n",
    ")"
   ]
  },
  {
   "cell_type": "code",
   "execution_count": null,
   "metadata": {},
   "outputs": [
    {
     "name": "stdout",
     "output_type": "stream",
     "text": [
      "assistant: The combined key risk factors from the 2021 10-K filings of Lyft and Uber highlight several shared and distinct challenges in the ridesharing and mobility industry:\n",
      "\n",
      "1. **Pandemic and Economic Impact**: Both companies are significantly affected by the COVID-19 pandemic and broader economic conditions, which influence market demand and operational stability.\n",
      "\n",
      "2. **Regulatory and Labor Issues**: A major concern is the classification of drivers as independent contractors versus employees, impacting labor costs and operational flexibility.\n",
      "\n",
      "3. **Intense Competition**: They face fierce competition in the mobility, delivery, and logistics sectors, characterized by low entry barriers and aggressive, well-funded competitors.\n",
      "\n",
      "4. **Operational and Financial Uncertainty**: Both companies deal with financial unpredictability and operational challenges, including managing insurance, claims, and maintaining profitability amidst high expenses.\n",
      "\n",
      "5. **Technological and Service Evolution**: Challenges in adopting new technologies like autonomous vehicles and expanding service offerings are crucial for staying competitive and managing growth.\n",
      "\n",
      "6. **Brand and Reputation Management**: Maintaining a positive brand image and company culture is vital, especially given past issues and the potential for user misconduct.\n",
      "\n",
      "7. **Security and Privacy Concerns**: Risks related to data breaches, system failures, and dependency on third-party services like cloud providers and payment processors are significant.\n",
      "\n",
      "This overview encapsulates the multifaceted risks that Lyft and Uber face, emphasizing the need for strategic management and innovation to navigate a complex, rapidly changing industry landscape.\n"
     ]
    }
   ],
   "source": [
    "print(str(response))"
   ]
  },
  {
   "cell_type": "markdown",
   "metadata": {},
   "source": [
    "## Changing Prompts\n",
    "\n",
    "The `StructuredPlanningAgent` has two key prompts:\n",
    "1. The initial planning prompt\n",
    "2. The plan refinement prompt\n",
    "\n",
    "Below, we show how to configure these prompts, using the defaults as an example."
   ]
  },
  {
   "cell_type": "code",
   "execution_count": null,
   "metadata": {},
   "outputs": [],
   "source": [
    "DEFAULT_INITIAL_PLAN_PROMPT = \"\"\"\\\n",
    "Think step-by-step. Given a task and a set of tools, create a comprehesive, end-to-end plan to accomplish the task.\n",
    "Keep in mind not every task needs to be decomposed into multiple sub-tasks if it is simple enough.\n",
    "The plan should end with a sub-task that satisfies the overall task.\n",
    "\n",
    "The tools available are:\n",
    "{tools_str}\n",
    "\n",
    "Overall Task: {task}\n",
    "\"\"\"\n",
    "\n",
    "DEFAULT_PLAN_REFINE_PROMPT = \"\"\"\\\n",
    "Think step-by-step. Given an overall task, a set of tools, and completed sub-tasks, update (if needed) the remaining sub-tasks so that the overall task can still be completed.\n",
    "The plan should end with a sub-task that satisfies the overall task.\n",
    "If the remaining sub-tasks are sufficient, you can skip this step.\n",
    "\n",
    "The tools available are:\n",
    "{tools_str}\n",
    "\n",
    "Overall Task:\n",
    "{task}\n",
    "\n",
    "Completed Sub-Tasks + Outputs:\n",
    "{completed_outputs}\n",
    "\n",
    "Remaining Sub-Tasks:\n",
    "{remaining_sub_tasks}\n",
    "\"\"\""
   ]
  },
  {
   "cell_type": "code",
   "execution_count": null,
   "metadata": {},
   "outputs": [],
   "source": [
    "agent = StructuredPlannerAgent(\n",
    "    worker,\n",
    "    tools=[lyft_tool, uber_tool],\n",
    "    initial_plan_prompt=DEFAULT_INITIAL_PLAN_PROMPT,\n",
    "    plan_refine_prompt=DEFAULT_PLAN_REFINE_PROMPT,\n",
    "    verbose=True,\n",
    ")"
   ]
  },
  {
   "cell_type": "markdown",
   "metadata": {},
   "source": [
    "## Low-level API [Advanced] \n",
    "\n",
    "In this section, we use the same agent, but expose the lower-level steps that are happening under the hood.\n",
    "\n",
    "This is useful for when you want to expose the underlying plan, tasks, etc. to a human to modify them on the fly, or for debugging and running things step-by-step."
   ]
  },
  {
   "cell_type": "markdown",
   "metadata": {},
   "source": [
    "### Create the Agent"
   ]
  },
  {
   "cell_type": "code",
   "execution_count": null,
   "metadata": {},
   "outputs": [],
   "source": [
    "from llama_index.core.agent import (\n",
    "    StructuredPlannerAgent,\n",
    "    FunctionCallingAgentWorker,\n",
    "    ReActAgentWorker,\n",
    ")\n",
    "\n",
    "# create the react worker for reasoning\n",
    "worker = FunctionCallingAgentWorker.from_tools(\n",
    "    [lyft_tool, uber_tool], verbose=True\n",
    ")\n",
    "\n",
    "# wrap the worker in the top-level planner\n",
    "agent = StructuredPlannerAgent(\n",
    "    worker, tools=[lyft_tool, uber_tool], verbose=True\n",
    ")"
   ]
  },
  {
   "cell_type": "markdown",
   "metadata": {},
   "source": [
    "### Create the initial tasks and plan"
   ]
  },
  {
   "cell_type": "code",
   "execution_count": null,
   "metadata": {},
   "outputs": [
    {
     "name": "stdout",
     "output_type": "stream",
     "text": [
      "=== Initial plan ===\n",
      "Extract Lyft Risk Factors:\n",
      "Extract the key risk factors from Lyft's 2021 10-K filing. -> A detailed list of key risk factors for Lyft from its 2021 10-K filing.\n",
      "deps: []\n",
      "\n",
      "\n",
      "Extract Uber Risk Factors:\n",
      "Extract the key risk factors from Uber's 2021 10-K filing. -> A detailed list of key risk factors for Uber from its 2021 10-K filing.\n",
      "deps: []\n",
      "\n",
      "\n",
      "Summarize Risk Factors:\n",
      "Summarize the key risk factors for both Lyft and Uber based on the extracted information from their 2021 10-K filings. -> A comprehensive summary of the key risk factors for Lyft and Uber from their 2021 10-K filings.\n",
      "deps: ['Extract Lyft Risk Factors', 'Extract Uber Risk Factors']\n",
      "\n",
      "\n"
     ]
    }
   ],
   "source": [
    "plan_id = agent.create_plan(\n",
    "    \"Summarize the key risk factors for Lyft and Uber in their 2021 10-K filings.\"\n",
    ")"
   ]
  },
  {
   "cell_type": "markdown",
   "metadata": {},
   "source": [
    "### Inspect the initial tasks and plan"
   ]
  },
  {
   "cell_type": "code",
   "execution_count": null,
   "metadata": {},
   "outputs": [
    {
     "name": "stdout",
     "output_type": "stream",
     "text": [
      "===== Sub Task Extract Lyft Risk Factors =====\n",
      "Expected output:  A detailed list of key risk factors for Lyft from its 2021 10-K filing.\n",
      "Dependencies:  []\n",
      "===== Sub Task Extract Uber Risk Factors =====\n",
      "Expected output:  A detailed list of key risk factors for Uber from its 2021 10-K filing.\n",
      "Dependencies:  []\n",
      "===== Sub Task Summarize Risk Factors =====\n",
      "Expected output:  A comprehensive summary of the key risk factors for Lyft and Uber from their 2021 10-K filings.\n",
      "Dependencies:  ['Extract Lyft Risk Factors', 'Extract Uber Risk Factors']\n"
     ]
    }
   ],
   "source": [
    "plan = agent.state.plan_dict[plan_id]\n",
    "\n",
    "for sub_task in plan.sub_tasks:\n",
    "    print(f\"===== Sub Task {sub_task.name} =====\")\n",
    "    print(\"Expected output: \", sub_task.expected_output)\n",
    "    print(\"Dependencies: \", sub_task.dependencies)"
   ]
  },
  {
   "cell_type": "markdown",
   "metadata": {},
   "source": [
    "### Execute the first set of tasks\n",
    "\n",
    "Here, we execute the first set of tasks with their dependencies met."
   ]
  },
  {
   "cell_type": "code",
   "execution_count": null,
   "metadata": {},
   "outputs": [
    {
     "name": "stdout",
     "output_type": "stream",
     "text": [
      "===== Sub Task Extract Lyft Risk Factors =====\n",
      "Expected output:  A detailed list of key risk factors for Lyft from its 2021 10-K filing.\n",
      "Dependencies:  []\n",
      "===== Sub Task Extract Uber Risk Factors =====\n",
      "Expected output:  A detailed list of key risk factors for Uber from its 2021 10-K filing.\n",
      "Dependencies:  []\n",
      "> Running step 4f708bcd-3078-4138-897b-e7f643fc7f35. Step input: Extract the key risk factors from Lyft's 2021 10-K filing.\n",
      "Added user message to memory: Extract the key risk factors from Lyft's 2021 10-K filing.\n",
      "=== Calling Function ===\n",
      "Calling function: lyft_2021 with args: {\"input\": \"key risk factors\"}\n",
      "=== Function Output ===\n",
      "Key risk factors for Lyft include general economic factors such as the impact of the COVID-19 pandemic, natural disasters, and macroeconomic conditions; operational factors such as limited operating history, competition, unpredictability of results, and the ability to attract and retain drivers and riders; and specific risks related to technology, such as autonomous vehicle development, security breaches, and reliance on third-party service providers. Additionally, risks related to insurance coverage, the adequacy of insurance reserves, and the handling of auto-related insurance claims by third parties are significant. The company also faces risks from potential illegal activities by users, inaccuracies in background checks, and challenges related to managing growth and expanding service offerings.\n",
      "> Running step 060f219a-0668-47ec-9bef-ce131d0ba887. Step input: None\n",
      "=== LLM Response ===\n",
      "The key risk factors identified in Lyft's 2021 10-K filing include:\n",
      "\n",
      "1. **General Economic Factors:**\n",
      "   - Impact of the COVID-19 pandemic.\n",
      "   - Natural disasters.\n",
      "   - Macroeconomic conditions.\n",
      "\n",
      "2. **Operational Factors:**\n",
      "   - Limited operating history.\n",
      "   - Competition.\n",
      "   - Unpredictability of results.\n",
      "   - Ability to attract and retain drivers and riders.\n",
      "\n",
      "3. **Technology-Related Risks:**\n",
      "   - Autonomous vehicle development.\n",
      "   - Security breaches.\n",
      "   - Reliance on third-party service providers.\n",
      "\n",
      "4. **Insurance-Related Risks:**\n",
      "   - Insurance coverage adequacy.\n",
      "   - Insurance reserves adequacy.\n",
      "   - Handling of auto-related insurance claims by third parties.\n",
      "\n",
      "5. **Other Risks:**\n",
      "   - Potential illegal activities by users.\n",
      "   - Inaccuracies in background checks.\n",
      "   - Challenges related to managing growth and expanding service offerings.\n",
      "> Running step 00f6732b-594c-4ecf-82e5-e9f005f8ab71. Step input: Extract the key risk factors from Uber's 2021 10-K filing.\n",
      "Added user message to memory: Extract the key risk factors from Uber's 2021 10-K filing.\n",
      "=== Calling Function ===\n",
      "Calling function: uber_2021 with args: {\"input\": \"key risk factors\"}\n",
      "=== Function Output ===\n",
      "The key risk factors include market risks such as interest rate risk, investment risk, and foreign currency risk. Interest rate risk is associated with fluctuations in interest rates affecting the company's refinanced term loan facilities and fixed rate notes. Investment risk involves the preservation of capital and meeting liquidity requirements without significantly increasing risk, with exposure to changes in interest rates and the carrying amounts of investments in other companies. Foreign currency risk arises from international transactions in multiple currencies, which could affect revenue and operating results due to fluctuations in exchange rates. Additionally, there are risks related to cyberattacks, which could harm the company's reputation, business, and operating results by compromising data security and the integrity of information technology systems.\n",
      "> Running step 04e95d17-e7a7-4f35-8519-33e9439e9659. Step input: None\n",
      "=== LLM Response ===\n",
      "The key risk factors identified in Uber's 2021 10-K filing include:\n",
      "\n",
      "1. **Market Risks:**\n",
      "   - **Interest Rate Risk:** Fluctuations in interest rates affecting the company's refinanced term loan facilities and fixed rate notes.\n",
      "   - **Investment Risk:** Challenges in preserving capital and meeting liquidity requirements without significantly increasing risk, with exposure to changes in interest rates and the carrying amounts of investments in other companies.\n",
      "   - **Foreign Currency Risk:** Risks from international transactions in multiple currencies, which could affect revenue and operating results due to fluctuations in exchange rates.\n",
      "\n",
      "2. **Cybersecurity Risks:**\n",
      "   - Risks related to cyberattacks, which could harm the company's reputation, business, and operating results by compromising data security and the integrity of information technology systems.\n"
     ]
    }
   ],
   "source": [
    "next_tasks = agent.state.get_next_sub_tasks(plan_id)\n",
    "\n",
    "for sub_task in next_tasks:\n",
    "    print(f\"===== Sub Task {sub_task.name} =====\")\n",
    "    print(\"Expected output: \", sub_task.expected_output)\n",
    "    print(\"Dependencies: \", sub_task.dependencies)\n",
    "\n",
    "\n",
    "for sub_task in next_tasks:\n",
    "    response = agent.run_task(sub_task.name)\n",
    "    agent.mark_task_complete(plan_id, sub_task.name)"
   ]
  },
  {
   "cell_type": "markdown",
   "metadata": {},
   "source": [
    "If we wanted to, we could even execute each task in a step-wise fashion. It would look something like this:\n",
    "\n",
    "```python\n",
    "# Step-wise execution per task\n",
    "\n",
    "for sub_task in next_tasks:\n",
    "    # get the task from the state \n",
    "    task = agent.state.get_task(sub_task.name)\n",
    "\n",
    "    # run intial resoning step\n",
    "    step_output = agent.run_step(task.task_id)\n",
    "\n",
    "    # loop until the last step is reached\n",
    "    while not step_output.is_last:\n",
    "        step_output = agent.run_step(task.task_id)\n",
    "    \n",
    "    # finalize the response and commit to memory\n",
    "    agent.finalize_response(task.task_id, step_output=step_output)\n",
    "```"
   ]
  },
  {
   "cell_type": "markdown",
   "metadata": {},
   "source": [
    "### Check if we are done\n",
    "\n",
    "If there are no remaining tasks, then we can stop. Otherwise, we can refine the current plan and continue"
   ]
  },
  {
   "cell_type": "code",
   "execution_count": null,
   "metadata": {},
   "outputs": [
    {
     "name": "stdout",
     "output_type": "stream",
     "text": [
      "1\n"
     ]
    }
   ],
   "source": [
    "next_tasks = agent.get_next_tasks(plan_id)\n",
    "print(len(next_tasks))"
   ]
  },
  {
   "cell_type": "code",
   "execution_count": null,
   "metadata": {},
   "outputs": [
    {
     "name": "stdout",
     "output_type": "stream",
     "text": [
      "===== Sub Task Summarize Risk Factors =====\n"
     ]
    }
   ],
   "source": [
    "for sub_task in next_tasks:\n",
    "    print(f\"===== Sub Task {sub_task} =====\")"
   ]
  },
  {
   "cell_type": "markdown",
   "metadata": {},
   "source": [
    "### Refine the plan\n",
    "\n",
    "Since we have tasks remaining, lets refine our plan to make sure we are on track."
   ]
  },
  {
   "cell_type": "code",
   "execution_count": null,
   "metadata": {},
   "outputs": [
    {
     "name": "stdout",
     "output_type": "stream",
     "text": [
      "=== Refined plan ===\n",
      "Summarize Risk Factors:\n",
      "Summarize the key risk factors for both Lyft and Uber based on the extracted information from their 2021 10-K filings. -> A comprehensive summary of the key risk factors for Lyft and Uber from their 2021 10-K filings.\n",
      "deps: ['Extract Lyft Risk Factors', 'Extract Uber Risk Factors']\n",
      "\n",
      "\n"
     ]
    }
   ],
   "source": [
    "# refine the plan\n",
    "agent.refine_plan(\n",
    "    \"Summarize the key risk factors for Lyft and Uber in their 2021 10-K filings.\",\n",
    "    plan_id,\n",
    ")"
   ]
  },
  {
   "cell_type": "code",
   "execution_count": null,
   "metadata": {},
   "outputs": [
    {
     "name": "stdout",
     "output_type": "stream",
     "text": [
      "===== Sub Task Summarize Risk Factors =====\n",
      "Expected output:  A comprehensive summary of the key risk factors for Lyft and Uber from their 2021 10-K filings.\n",
      "Dependencies:  ['Extract Lyft Risk Factors', 'Extract Uber Risk Factors']\n"
     ]
    }
   ],
   "source": [
    "plan = agent.state.plan_dict[plan_id]\n",
    "\n",
    "for sub_task in plan.sub_tasks:\n",
    "    print(f\"===== Sub Task {sub_task.name} =====\")\n",
    "    print(\"Expected output: \", sub_task.expected_output)\n",
    "    print(\"Dependencies: \", sub_task.dependencies)"
   ]
  },
  {
   "cell_type": "markdown",
   "metadata": {},
   "source": [
    "### Loop until done\n",
    "\n",
    "With our plan refined, we can repeat this process until we have no more tasks to run."
   ]
  },
  {
   "cell_type": "code",
   "execution_count": null,
   "metadata": {},
   "outputs": [
    {
     "name": "stdout",
     "output_type": "stream",
     "text": [
      "> Running step 70356e9a-98ee-49f5-b15f-e5a6b43381d0. Step input: Summarize the key risk factors for both Lyft and Uber based on the extracted information from their 2021 10-K filings.\n",
      "Added user message to memory: Summarize the key risk factors for both Lyft and Uber based on the extracted information from their 2021 10-K filings.\n",
      "=== LLM Response ===\n",
      "The key risk factors for Lyft and Uber from their 2021 10-K filings highlight several areas of concern for both companies, with some overlapping and unique challenges:\n",
      "\n",
      "### Common Risk Factors:\n",
      "- **Economic and Market Conditions:** Both companies are affected by general economic factors such as macroeconomic conditions and the impact of the COVID-19 pandemic. Additionally, Uber faces specific market risks like interest rate risk, investment risk, and foreign currency risk due to its global operations.\n",
      "\n",
      "### Lyft-Specific Risk Factors:\n",
      "- **Operational Challenges:** Lyft faces risks related to its limited operating history, competition, unpredictability of results, and the ability to attract and retain drivers and riders.\n",
      "- **Technology and Insurance Risks:** Challenges include autonomous vehicle development, security breaches, reliance on third-party service providers, insurance coverage adequacy, and handling of auto-related insurance claims by third parties.\n",
      "- **Regulatory and Legal Risks:** Potential illegal activities by users, inaccuracies in background checks, and challenges related to managing growth and expanding service offerings.\n",
      "\n",
      "### Uber-Specific Risk Factors:\n",
      "- **Cybersecurity Risks:** Uber is particularly concerned with risks related to cyberattacks that could compromise data security and the integrity of its information technology systems.\n",
      "\n",
      "Both companies operate in dynamic and rapidly evolving environments, facing significant operational and market challenges that could impact their business operations and financial stability.\n",
      "=== Refined plan ===\n",
      "Extract Lyft Risk Factors:\n",
      "Extract the key risk factors from Lyft's 2021 10-K filing. -> The key risk factors identified in Lyft's 2021 10-K filing include general economic factors, operational factors, technology-related risks, insurance-related risks, and other risks.\n",
      "deps: []\n",
      "\n",
      "\n",
      "Extract Uber Risk Factors:\n",
      "Extract the key risk factors from Uber's 2021 10-K filing. -> The key risk factors identified in Uber's 2021 10-K filing include market risks, cybersecurity risks, and other specific operational and financial risks.\n",
      "deps: []\n",
      "\n",
      "\n",
      "Summarize Risk Factors:\n",
      "Summarize the key risk factors for Lyft and Uber from their 2021 10-K filings. -> A summary of the key risk factors for Lyft and Uber, highlighting common and unique challenges, including economic, operational, technology, insurance, and cybersecurity risks.\n",
      "deps: ['Extract Lyft Risk Factors', 'Extract Uber Risk Factors']\n",
      "\n",
      "\n"
     ]
    }
   ],
   "source": [
    "import asyncio\n",
    "\n",
    "while True:\n",
    "    # are we done?\n",
    "    next_tasks = agent.get_next_tasks(plan_id)\n",
    "    if len(next_tasks) == 0:\n",
    "        break\n",
    "\n",
    "    # run concurrently for better performance\n",
    "    responses = await asyncio.gather(\n",
    "        *[agent.arun_task(task_id) for task_id in next_tasks]\n",
    "    )\n",
    "    for task_id in next_tasks:\n",
    "        agent.mark_task_complete(plan_id, task_id)\n",
    "\n",
    "    # refine the plan\n",
    "    await agent.arefine_plan(\n",
    "        \"Summarize the key risk factors for Lyft and Uber in their 2021 10-K filings.\",\n",
    "        plan_id,\n",
    "    )"
   ]
  },
  {
   "cell_type": "markdown",
   "metadata": {},
   "source": [
    "By the end, we should have a single response, which is our final response"
   ]
  },
  {
   "cell_type": "code",
   "execution_count": null,
   "metadata": {},
   "outputs": [
    {
     "name": "stdout",
     "output_type": "stream",
     "text": [
      "assistant: The key risk factors for Lyft and Uber from their 2021 10-K filings highlight several areas of concern for both companies, with some overlapping and unique challenges:\n",
      "\n",
      "### Common Risk Factors:\n",
      "- **Economic and Market Conditions:** Both companies are affected by general economic factors such as macroeconomic conditions and the impact of the COVID-19 pandemic. Additionally, Uber faces specific market risks like interest rate risk, investment risk, and foreign currency risk due to its global operations.\n",
      "\n",
      "### Lyft-Specific Risk Factors:\n",
      "- **Operational Challenges:** Lyft faces risks related to its limited operating history, competition, unpredictability of results, and the ability to attract and retain drivers and riders.\n",
      "- **Technology and Insurance Risks:** Challenges include autonomous vehicle development, security breaches, reliance on third-party service providers, insurance coverage adequacy, and handling of auto-related insurance claims by third parties.\n",
      "- **Regulatory and Legal Risks:** Potential illegal activities by users, inaccuracies in background checks, and challenges related to managing growth and expanding service offerings.\n",
      "\n",
      "### Uber-Specific Risk Factors:\n",
      "- **Cybersecurity Risks:** Uber is particularly concerned with risks related to cyberattacks that could compromise data security and the integrity of its information technology systems.\n",
      "\n",
      "Both companies operate in dynamic and rapidly evolving environments, facing significant operational and market challenges that could impact their business operations and financial stability.\n"
     ]
    }
   ],
   "source": [
    "print(str(responses[-1]))"
   ]
  }
 ],
 "metadata": {
  "kernelspec": {
   "display_name": "venv",
   "language": "python",
   "name": "python3"
  },
  "language_info": {
   "codemirror_mode": {
    "name": "ipython",
    "version": 3
   },
   "file_extension": ".py",
   "mimetype": "text/x-python",
   "name": "python",
   "nbconvert_exporter": "python",
   "pygments_lexer": "ipython3"
  }
 },
 "nbformat": 4,
 "nbformat_minor": 2
}
