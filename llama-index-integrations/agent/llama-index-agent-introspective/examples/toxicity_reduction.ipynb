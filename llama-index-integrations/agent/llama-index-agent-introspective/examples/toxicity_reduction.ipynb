{
 "cells": [
  {
   "cell_type": "markdown",
   "id": "9c4da983-17d9-4827-9f5a-a1c63d6b165a",
   "metadata": {},
   "source": [
    "# Introspective Agents: Performing Tasks With Reflection\n",
    "\n",
    "**WARNING: this notebook contains content that may be considered offensive or sensitive to some.**\n",
    "\n",
    "In this notebook, we cover how to use the `llama-index-agent-introspective` integration package to define an agent that performs tasks while utilizing the reflection agent pattern. We call such agents \"Introspective Agents\". These agents perform tasks by first generating an initial response to the task and then iteratively executing reflection and correction cycles on successive responses until a stopping condition has been met or a max number of iterations has been reached."
   ]
  },
  {
   "cell_type": "code",
   "execution_count": null,
   "id": "2e9bad33-e2d9-4b79-84d1-ffa82683f434",
   "metadata": {},
   "outputs": [
    {
     "name": "stdout",
     "output_type": "stream",
     "text": [
      "Note: you may need to restart the kernel to use updated packages.\n",
      "Note: you may need to restart the kernel to use updated packages.\n",
      "Note: you may need to restart the kernel to use updated packages.\n",
      "Note: you may need to restart the kernel to use updated packages.\n",
      "Note: you may need to restart the kernel to use updated packages.\n"
     ]
    }
   ],
   "source": [
    "%pip install llama-index-agent-introspective -q\n",
    "%pip install google-api-python-client -q\n",
    "%pip install llama-index-llms-openai -q\n",
    "%pip install llama-index-program-openai -q\n",
    "%pip install llama-index-readers-file -q"
   ]
  },
  {
   "cell_type": "code",
   "execution_count": null,
   "id": "bbccfe5e-c25f-469a-9394-d7dffcdaae91",
   "metadata": {},
   "outputs": [],
   "source": [
    "import nest_asyncio\n",
    "\n",
    "nest_asyncio.apply()"
   ]
  },
  {
   "cell_type": "markdown",
   "id": "a3a6f019-facf-4860-8781-87cf85d4beb8",
   "metadata": {},
   "source": [
    "## 1 Toxicity Reduction: Problem Setup\n",
    "\n",
    "In this notebook, the task we'll have our introspective agents perform is \"toxicity reduction\". In particular, given a certain harmful text we'll ask the agent to produce a less harmful (or more safe) version of the original text. As mentioned before, our introspective agent will do this by performing reflection and correction cycles until reaching an adequately safe version of the toxic text."
   ]
  },
  {
   "cell_type": "markdown",
   "id": "ea0a3149-1cf0-401b-869b-587d814d97e5",
   "metadata": {},
   "source": [
    "## 2 Using `IntrospectiveAgents`\n",
    "\n",
    "![Title Image](https://d3ddy8balm3goa.cloudfront.net/llamaindex/introspective_agents.excalidraw.svg)\n",
    "\n",
    "In this notebook, we'll build two introspective agents. Note that such `IntrospectiveAgents` delegate the task of reflection and correction to another agent, namely a `ReflectiveAgentWorker`. This reflective agent needs to be supplied to an introspective agent at construction time. Additionally, a `MainAgentWorker` can also be supplied, which is responsible for generating the initial response to the task — if none is supplied, then the user input is assumed to be the initial response to the task. For this notebook, we build the following `IntrospectiveAgent`'s:\n",
    "\n",
    "a. `IntrospectiveAgent` that uses a `ToolInteractiveReflectionAgent`\n",
    "\n",
    "b. `IntrospectiveAgent` that uses a `SelfReflectionAgent`\n",
    "\n",
    "For the one that uses tool-interactive reflection, we'll use the Perspective API to get toxicity scores of our texts. This follows the example provided in the CRITIC paper."
   ]
  },
  {
   "cell_type": "markdown",
   "id": "84169405-5fd7-4133-b8e6-5c52deaef775",
   "metadata": {},
   "source": [
    "### 2a `IntrospectiveAgent` that uses a `ToolInteractiveReflectionAgent`\n",
    "\n",
    "The first thing we will do here is define the `PerspectiveTool`, which our `ToolInteractiveReflectionAgent` will make use of thru another agent, namely a `CritiqueAgent`.\n",
    "\n",
    "To use Perspecive's API, you will need to do the following steps:\n",
    "\n",
    "1. Enable the Perspective API in your Google Cloud projects\n",
    "2. Generate a new set of credentials (i.e. API key) that you will need to either set an env var `PERSPECTIVE_API_KEY` or supply directly in the appropriate parts of the code that follows.\n",
    "\n",
    "To perform steps 1. and 2., you can follow the instructions outlined here: https://developers.perspectiveapi.com/s/docs-enable-the-api?language=en_US."
   ]
  },
  {
   "cell_type": "markdown",
   "id": "b4bc789c-41f0-4f0b-b1ef-17e9bb180132",
   "metadata": {},
   "source": [
    "#### Build `PerspectiveTool`"
   ]
  },
  {
   "cell_type": "code",
   "execution_count": null,
   "id": "ef1a00dd-17bb-4227-90ca-d544cbd16c36",
   "metadata": {},
   "outputs": [],
   "source": [
    "from googleapiclient import discovery\n",
    "from typing import Dict, Optional\n",
    "import json\n",
    "import os\n",
    "\n",
    "\n",
    "class Perspective:\n",
    "    \"\"\"Custom class to interact with Perspective API.\"\"\"\n",
    "\n",
    "    attributes = [\n",
    "        \"toxicity\",\n",
    "        \"severe_toxicity\",\n",
    "        \"identity_attack\",\n",
    "        \"insult\",\n",
    "        \"profanity\",\n",
    "        \"threat\",\n",
    "        \"sexually_explicit\",\n",
    "    ]\n",
    "\n",
    "    def __init__(self, api_key: Optional[str] = None) -> None:\n",
    "        if api_key is None:\n",
    "            try:\n",
    "                api_key = os.environ[\"PERSPECTIVE_API_KEY\"]\n",
    "            except KeyError:\n",
    "                raise ValueError(\n",
    "                    \"Please provide an api key or set PERSPECTIVE_API_KEY env var.\"\n",
    "                )\n",
    "\n",
    "        self._client = discovery.build(\n",
    "            \"commentanalyzer\",\n",
    "            \"v1alpha1\",\n",
    "            developerKey=api_key,\n",
    "            discoveryServiceUrl=\"https://commentanalyzer.googleapis.com/$discovery/rest?version=v1alpha1\",\n",
    "            static_discovery=False,\n",
    "        )\n",
    "\n",
    "    def get_toxicity_scores(self, text: str) -> Dict[str, float]:\n",
    "        \"\"\"Function that makes API call to Perspective to get toxicity scores across various attributes.\"\"\"\n",
    "\n",
    "        analyze_request = {\n",
    "            \"comment\": {\"text\": text},\n",
    "            \"requestedAttributes\": {att.upper(): {} for att in self.attributes},\n",
    "        }\n",
    "\n",
    "        response = self._client.comments().analyze(body=analyze_request).execute()\n",
    "        try:\n",
    "            return {\n",
    "                att: response[\"attributeScores\"][att.upper()][\"summaryScore\"][\"value\"]\n",
    "                for att in self.attributes\n",
    "            }\n",
    "        except Exception as e:\n",
    "            raise ValueError(\"Unable to parse response\") from e\n",
    "\n",
    "\n",
    "perspective = Perspective()"
   ]
  },
  {
   "cell_type": "markdown",
   "id": "f45794e7-8175-4a6c-a9ae-bfe76274e755",
   "metadata": {},
   "source": [
    "With the helper class in hand, we can define our tool by first defining a function and then making use of the `FunctionTool` abstraction."
   ]
  },
  {
   "cell_type": "code",
   "execution_count": null,
   "id": "cc7c1518-153a-4e2d-8620-241d1a547fc7",
   "metadata": {},
   "outputs": [],
   "source": [
    "from typing import Tuple\n",
    "from llama_index.core.bridge.pydantic import Field\n",
    "\n",
    "\n",
    "def perspective_function_tool(\n",
    "    text: str = Field(\n",
    "        default_factory=str, description=\"The text to compute toxicity scores on.\"\n",
    "    )\n",
    ") -> Tuple[str, float]:\n",
    "    \"\"\"Returns the toxicity score of the most problematic toxic attribute.\"\"\"\n",
    "\n",
    "    scores = perspective.get_toxicity_scores(text=text)\n",
    "    max_key = max(scores, key=scores.get)\n",
    "    return (max_key, scores[max_key] * 100)\n",
    "\n",
    "\n",
    "from llama_index.core.tools import FunctionTool\n",
    "\n",
    "pespective_tool = FunctionTool.from_defaults(\n",
    "    perspective_function_tool,\n",
    ")"
   ]
  },
  {
   "cell_type": "markdown",
   "id": "a8d44115-1cb3-4cd7-90e8-bb4fc907a22e",
   "metadata": {},
   "source": [
    "A simple test of our perspective tool!"
   ]
  },
  {
   "cell_type": "code",
   "execution_count": null,
   "id": "18f45fde-25bc-4fae-bd24-791cccd58152",
   "metadata": {},
   "outputs": [
    {
     "data": {
      "text/plain": [
       "('toxicity', 2.5438840000000003)"
      ]
     },
     "execution_count": null,
     "metadata": {},
     "output_type": "execute_result"
    }
   ],
   "source": [
    "perspective_function_tool(text=\"friendly greetings from python\")"
   ]
  },
  {
   "cell_type": "markdown",
   "id": "ef5abb0a-f119-4c98-8a62-96465d21a200",
   "metadata": {},
   "source": [
    "#### Build `IntrospectiveAgent` & `ToolInteractiveReflectionAgent`\n",
    "\n",
    "With our tool define, we can now build our `IntrospectiveAgent` and the required `ToolInteractiveReflectionAgentWorker`. To construct the latter, we need to also construct a `CritiqueAgentWorker` that will ultimately be responsible for performing the reflection with the tools.\n",
    "\n",
    "The code provided below defines a helper function to construct this `IntrospectiveAgent`. This is done for convenience as we will later put the two reflection techniques to the test!"
   ]
  },
  {
   "cell_type": "code",
   "execution_count": null,
   "id": "84daa3d1-075c-4740-ac03-efe077f2151d",
   "metadata": {},
   "outputs": [],
   "source": [
    "from llama_index.agent.introspective import IntrospectiveAgentWorker\n",
    "from llama_index.agent.introspective import ToolInteractiveReflectionAgentWorker\n",
    "\n",
    "from llama_index.llms.openai import OpenAI\n",
    "from llama_index.agent.openai import OpenAIAgentWorker\n",
    "from llama_index.core.agent import FunctionCallingAgentWorker\n",
    "from llama_index.core.llms import ChatMessage, MessageRole\n",
    "from llama_index.core import ChatPromptTemplate\n",
    "\n",
    "\n",
    "def get_introspective_agent_with_tool_interactive_reflection(\n",
    "    verbose=True, with_main_worker=False\n",
    "):\n",
    "    \"\"\"Helper function for building introspective agent using tool-interactive reflection.\n",
    "\n",
    "    Steps:\n",
    "\n",
    "    1. Define the `ToolInteractiveReflectionAgentWorker`\n",
    "        1a. Construct a CritiqueAgentWorker that performs reflection with tools.\n",
    "        1b. Define an LLM that will be used to generate corrections against the critique.\n",
    "        1c. Define a function that determines the stopping condition for reflection/correction\n",
    "            cycles\n",
    "        1d. Construct `ToolInteractiveReflectionAgentWorker` using .from_defaults()\n",
    "\n",
    "    2. Optionally define a `MainAgentWorker`\n",
    "\n",
    "    3. Construct `IntrospectiveAgent`\n",
    "        3a. Construct `IntrospectiveAgentWorker` using .from_defaults()\n",
    "        3b. Construct `IntrospectiveAgent` using .as_agent()\n",
    "    \"\"\"\n",
    "\n",
    "    # 1a.\n",
    "    critique_agent_worker = FunctionCallingAgentWorker.from_tools(\n",
    "        tools=[pespective_tool], llm=OpenAI(\"gpt-3.5-turbo\"), verbose=verbose\n",
    "    )\n",
    "    # 1b.\n",
    "    correction_llm = OpenAI(\"gpt-4-turbo-preview\")\n",
    "\n",
    "    # 1c.\n",
    "    def stopping_callable(critique_str: str) -> bool:\n",
    "        \"\"\"Function that determines stopping condition for reflection & correction cycles.\n",
    "\n",
    "        critique_str [str]: The response string provided by the critique agent.\n",
    "        \"\"\"\n",
    "\n",
    "        return \"[PASS]\" in critique_str\n",
    "\n",
    "    # 1d.\n",
    "    tool_interactive_reflection_agent_worker = (\n",
    "        ToolInteractiveReflectionAgentWorker.from_defaults(\n",
    "            critique_agent_worker=critique_agent_worker,\n",
    "            critique_template=(\n",
    "                \"Please provide a toxicity critique for the provided text. \"\n",
    "                \"If the toxicity score is less than 3.0 then please \"\n",
    "                \"write '[PASS]' otherwise write '[FAIL]'. \"\n",
    "                \"Here is the text:\\n {input_str}\"\n",
    "            ),\n",
    "            stopping_callable=stopping_callable,\n",
    "            correction_llm=correction_llm,\n",
    "            verbose=verbose,\n",
    "        )\n",
    "    )\n",
    "\n",
    "    # 2.\n",
    "    if with_main_worker:\n",
    "        main_agent_worker = OpenAIAgentWorker.from_tools(\n",
    "            tools=[], llm=OpenAI(\"gpt-4-turbo-preview\"), verbose=True\n",
    "        )\n",
    "    else:\n",
    "        main_agent_worker = None\n",
    "\n",
    "    # 3a.\n",
    "    introspective_agent_worker = IntrospectiveAgentWorker.from_defaults(\n",
    "        reflective_agent_worker=tool_interactive_reflection_agent_worker,\n",
    "        main_agent_worker=main_agent_worker,\n",
    "        verbose=verbose,\n",
    "    )\n",
    "\n",
    "    chat_history = [\n",
    "        ChatMessage(\n",
    "            content=\"You are an assistant that generates safer versions of potentially toxic, user-supplied text.\",\n",
    "            role=MessageRole.SYSTEM,\n",
    "        )\n",
    "    ]\n",
    "\n",
    "    # 3b.\n",
    "    return introspective_agent_worker.as_agent(\n",
    "        chat_history=chat_history, verbose=verbose\n",
    "    )\n",
    "\n",
    "\n",
    "introspective_agent = get_introspective_agent_with_tool_interactive_reflection(\n",
    "    verbose=True,\n",
    ")"
   ]
  },
  {
   "cell_type": "markdown",
   "id": "b814503f-c19f-4d35-b0a8-464629d58bc1",
   "metadata": {},
   "source": [
    "Now, let's try out our `introspective_agent`!"
   ]
  },
  {
   "cell_type": "code",
   "execution_count": null,
   "id": "25a83094-2dd9-4d83-8f3c-c1613fcb9568",
   "metadata": {},
   "outputs": [
    {
     "name": "stdout",
     "output_type": "stream",
     "text": [
      "> Running step 4a2fb6bf-a73b-4c4c-a316-8cd62b568e64. Step input: Those individuals who publicly tout eating no meat, especially when their stated reason has to do with caring about animals, are some of the most hypocritical people I’ve ever met. One vegan acquaintance routinely beat her\n",
      "Added user message to memory: Those individuals who publicly tout eating no meat, especially when their stated reason has to do with caring about animals, are some of the most hypocritical people I’ve ever met. One vegan acquaintance routinely beat her\n",
      "> Running step 6a9705f6-6d0b-4b06-a959-4eebff8508bd. Step input: Those individuals who publicly tout eating no meat, especially when their stated reason has to do with caring about animals, are some of the most hypocritical people I’ve ever met. One vegan acquaintance routinely beat her\n",
      "> Running step 463f4336-0df2-4069-ba1d-9a692184aa6d. Step input: Please provide a toxicity critique for the provided text. If the toxicity score is less than 3.0 then please write '[PASS]' otherwise write '[FAIL]'. Here is the text:\n",
      " Those individuals who publicly tout eating no meat, especially when their stated reason has to do with caring about animals, are some of the most hypocritical people I’ve ever met. One vegan acquaintance routinely beat her\n",
      "Added user message to memory: Please provide a toxicity critique for the provided text. If the toxicity score is less than 3.0 then please write '[PASS]' otherwise write '[FAIL]'. Here is the text:\n",
      " Those individuals who publicly tout eating no meat, especially when their stated reason has to do with caring about animals, are some of the most hypocritical people I’ve ever met. One vegan acquaintance routinely beat her\n",
      "=== Calling Function ===\n",
      "Calling function: perspective_function_tool with args: {\"text\": \"Those individuals who publicly tout eating no meat, especially when their stated reason has to do with caring about animals, are some of the most hypocritical people I\\u2019ve ever met. One vegan acquaintance routinely beat her\"}\n",
      "=== Function Output ===\n",
      "('insult', 50.72643)\n",
      "> Running step 59365d21-a0a0-41ce-9c28-a4a72ca6a894. Step input: None\n",
      "=== LLM Response ===\n",
      "[FAIL] The toxicity score for the provided text is 50.73, which is above 3.0.\n",
      "Critique: assistant: [FAIL] The toxicity score for the provided text is 50.73, which is above 3.0.\n",
      "Correction: People who choose not to eat meat for ethical reasons related to animal welfare are making a personal decision. It's important to respect diverse perspectives and experiences.\n",
      "> Running step 0ad58f24-1185-499d-a25c-ddb7a42d8b98. Step input: None\n",
      "> Running step c7730804-39f5-40b1-989f-70236a818bdf. Step input: Please provide a toxicity critique for the provided text. If the toxicity score is less than 3.0 then please write '[PASS]' otherwise write '[FAIL]'. Here is the text:\n",
      " People who choose not to eat meat for ethical reasons related to animal welfare are making a personal decision. It's important to respect diverse perspectives and experiences.\n",
      "Added user message to memory: Please provide a toxicity critique for the provided text. If the toxicity score is less than 3.0 then please write '[PASS]' otherwise write '[FAIL]'. Here is the text:\n",
      " People who choose not to eat meat for ethical reasons related to animal welfare are making a personal decision. It's important to respect diverse perspectives and experiences.\n",
      "=== Calling Function ===\n",
      "Calling function: perspective_function_tool with args: {\"text\": \"People who choose not to eat meat for ethical reasons related to animal welfare are making a personal decision. It's important to respect diverse perspectives and experiences.\"}\n",
      "=== Function Output ===\n",
      "('toxicity', 1.3697007)\n",
      "> Running step 556bb171-311b-4d00-8366-66f305d46a4c. Step input: None\n",
      "=== LLM Response ===\n",
      "[PASS] The toxicity score of the provided text is 1.37, which is less than 3.0.\n",
      "Critique: assistant: [PASS] The toxicity score of the provided text is 1.37, which is less than 3.0.\n"
     ]
    }
   ],
   "source": [
    "harmful_text = (\n",
    "    \"Those individuals who publicly tout eating no meat, \"\n",
    "    \"especially when their stated reason has to do with caring \"\n",
    "    \"about animals, are some of the most hypocritical people I’ve \"\n",
    "    \"ever met. One vegan acquaintance routinely beat her\"\n",
    ")\n",
    "response = await introspective_agent.achat(harmful_text)"
   ]
  },
  {
   "cell_type": "code",
   "execution_count": null,
   "id": "20ff5b6e-eae1-49b5-820e-e2472e2f177e",
   "metadata": {},
   "outputs": [
    {
     "data": {
      "text/plain": [
       "\"People who choose not to eat meat for ethical reasons related to animal welfare are making a personal decision. It's important to respect diverse perspectives and experiences.\""
      ]
     },
     "execution_count": null,
     "metadata": {},
     "output_type": "execute_result"
    }
   ],
   "source": [
    "response.response"
   ]
  },
  {
   "cell_type": "code",
   "execution_count": null,
   "id": "ea58b728-086d-4d22-848b-5c93812005bf",
   "metadata": {},
   "outputs": [
    {
     "data": {
      "text/plain": [
       "[ToolOutput(content=\"('insult', 50.72643)\", tool_name='perspective_function_tool', raw_input={'args': ('Those individuals who publicly tout eating no meat, especially when their stated reason has to do with caring about animals, are some of the most hypocritical people I’ve ever met. One vegan acquaintance routinely beat her',), 'kwargs': {}}, raw_output=('insult', 50.72643), is_error=False),\n",
       " ToolOutput(content=\"('toxicity', 1.3697007)\", tool_name='perspective_function_tool', raw_input={'args': (\"People who choose not to eat meat for ethical reasons related to animal welfare are making a personal decision. It's important to respect diverse perspectives and experiences.\",), 'kwargs': {}}, raw_output=('toxicity', 1.3697007), is_error=False)]"
      ]
     },
     "execution_count": null,
     "metadata": {},
     "output_type": "execute_result"
    }
   ],
   "source": [
    "response.sources"
   ]
  },
  {
   "cell_type": "code",
   "execution_count": null,
   "id": "7c9e6b0c-f9ac-4ea5-a13d-ee01c72d0cbf",
   "metadata": {},
   "outputs": [
    {
     "name": "stdout",
     "output_type": "stream",
     "text": [
      "system: You are an assistant that generates safer versions of potentially toxic, user-supplied text.\n",
      "\n",
      "user: Those individuals who publicly tout eating no meat, especially when their stated reason has to do with caring about animals, are some of the most hypocritical people I’ve ever met. One vegan acquaintance routinely beat her\n",
      "\n",
      "assistant: People who choose not to eat meat for ethical reasons related to animal welfare are making a personal decision. It's important to respect diverse perspectives and experiences.\n",
      "\n"
     ]
    }
   ],
   "source": [
    "for msg in introspective_agent.chat_history:\n",
    "    print(str(msg))\n",
    "    print()"
   ]
  },
  {
   "cell_type": "markdown",
   "id": "03feff2d-c04c-43d6-99fc-4aff021583a4",
   "metadata": {},
   "source": [
    "### 2b `IntrospectiveAgent` that uses a `SelfReflectionAgentWorker`\n",
    "\n",
    "Similar to the previous subsection, now we will build an `IntrospectiveAgent` that uses `SelfReflectionAgentWorker`. This reflection technique doesn't make use of any tools, and instead only uses a supplied LLM to perform both reflection and correction. Moreover, we similarly define a helper function for building such an `IntrospectiveAgent` next."
   ]
  },
  {
   "cell_type": "code",
   "execution_count": null,
   "id": "74119d00-26d8-4c6a-aadc-c7af6c0271cc",
   "metadata": {},
   "outputs": [],
   "source": [
    "from llama_index.agent.introspective import SelfReflectionAgentWorker\n",
    "\n",
    "\n",
    "def get_introspective_agent_with_self_reflection(verbose=True, with_main_worker=False):\n",
    "    \"\"\"Helper function for building introspective agent using self reflection.\n",
    "\n",
    "    Steps:\n",
    "\n",
    "    1. Define the `SelfReflectionAgentWorker`\n",
    "        1a. Construct `SelfReflectionAgentWorker` using .from_defaults()\n",
    "\n",
    "    2. Optionally define a `MainAgentWorker`\n",
    "\n",
    "    3. Construct `IntrospectiveAgent`\n",
    "        3a. Construct `IntrospectiveAgentWorker` using .from_defaults()\n",
    "        3b. Construct `IntrospectiveAgent` using .as_agent()\n",
    "    \"\"\"\n",
    "\n",
    "    # 1a.\n",
    "    self_reflection_agent_worker = SelfReflectionAgentWorker.from_defaults(\n",
    "        llm=OpenAI(\"gpt-4-turbo-preview\"),\n",
    "        verbose=verbose,\n",
    "    )\n",
    "\n",
    "    # 2.\n",
    "    if with_main_worker:\n",
    "        main_agent_worker = OpenAIAgentWorker.from_tools(\n",
    "            tools=[], llm=OpenAI(\"gpt-4-turbo-preview\"), verbose=True\n",
    "        )\n",
    "    else:\n",
    "        main_agent_worker = None\n",
    "\n",
    "    # 3a.\n",
    "    introspective_worker_agent = IntrospectiveAgentWorker.from_defaults(\n",
    "        reflective_agent_worker=self_reflection_agent_worker,\n",
    "        main_agent_worker=main_agent_worker,\n",
    "        verbose=verbose,\n",
    "    )\n",
    "\n",
    "    chat_history = [\n",
    "        ChatMessage(\n",
    "            content=\"You are an assistant that generates safer versions of potentially toxic, user-supplied text.\",\n",
    "            role=MessageRole.SYSTEM,\n",
    "        )\n",
    "    ]\n",
    "\n",
    "    # 3b.\n",
    "    return introspective_worker_agent.as_agent(\n",
    "        chat_history=chat_history, verbose=verbose\n",
    "    )\n",
    "\n",
    "\n",
    "introspective_agent = get_introspective_agent_with_self_reflection(verbose=True)"
   ]
  },
  {
   "cell_type": "markdown",
   "id": "84a58cac-93af-460b-a342-79a8e5ec960b",
   "metadata": {},
   "source": [
    "Let's test out this `IntrospectiveAgent` on the same `harmful_text` as before."
   ]
  },
  {
   "cell_type": "code",
   "execution_count": null,
   "id": "4b2ff24d-5d03-4453-bd1f-1fb9750625a0",
   "metadata": {},
   "outputs": [
    {
     "name": "stdout",
     "output_type": "stream",
     "text": [
      "> Running step 450123e6-9ec4-4a74-995a-4137d3af51fd. Step input: Those individuals who publicly tout eating no meat, especially when their stated reason has to do with caring about animals, are some of the most hypocritical people I’ve ever met. One vegan acquaintance routinely beat her\n",
      "Added user message to memory: Those individuals who publicly tout eating no meat, especially when their stated reason has to do with caring about animals, are some of the most hypocritical people I’ve ever met. One vegan acquaintance routinely beat her\n",
      "> Running step 4a41fd97-ae67-42ae-8878-7c53c733efaa. Step input: Those individuals who publicly tout eating no meat, especially when their stated reason has to do with caring about animals, are some of the most hypocritical people I’ve ever met. One vegan acquaintance routinely beat her\n",
      "> Reflection: {'is_done': False, 'feedback': 'The assistant failed to generate a safer version of the user-supplied text. Instead, it repeated the original text verbatim, which does not fulfill the task requirements. There was no attempt to modify the text to make it less toxic or more neutral. Additionally, there was no tool use involved in the process, which could have been beneficial for generating or evaluating potential safer text versions. The assistant needs to focus on creating a response that aligns with the goal of generating safer text versions without repeating the potentially toxic content provided by the user.'}\n",
      "Correction: Discussing dietary choices, particularly veganism, often brings up strong opinions. It's important to approach these conversations with respect and understanding, recognizing that people choose their diets for a variety of reasons, including ethical concerns for animal welfare. It's crucial to avoid generalizations and acknowledge the diversity of experiences and beliefs within any group.\n",
      "> Running step c0afbcb0-c76e-4588-849c-be6cc48e56c1. Step input: None\n",
      "> Reflection: {'is_done': True, 'feedback': \"The assistant successfully generated a safer version of the user-supplied text. The revised text is neutral and respectful, avoiding the toxic elements present in the original message. It focuses on the importance of respectful dialogue and understanding diverse perspectives, which aligns with the task of generating safer text versions. No tool use was required in this instance, as the task was completed effectively through the assistant's response.\"}\n"
     ]
    }
   ],
   "source": [
    "harmful_text = (\n",
    "    \"Those individuals who publicly tout eating no meat, \"\n",
    "    \"especially when their stated reason has to do with caring \"\n",
    "    \"about animals, are some of the most hypocritical people I’ve \"\n",
    "    \"ever met. One vegan acquaintance routinely beat her\"\n",
    ")\n",
    "response = await introspective_agent.achat(harmful_text)"
   ]
  },
  {
   "cell_type": "code",
   "execution_count": null,
   "id": "c331f7ec-ed61-4e87-8d69-0aa25108b5bf",
   "metadata": {},
   "outputs": [
    {
     "data": {
      "text/plain": [
       "\"Discussing dietary choices, particularly veganism, often brings up strong opinions. It's important to approach these conversations with respect and understanding, recognizing that people choose their diets for a variety of reasons, including ethical concerns for animal welfare. It's crucial to avoid generalizations and acknowledge the diversity of experiences and beliefs within any group.\""
      ]
     },
     "execution_count": null,
     "metadata": {},
     "output_type": "execute_result"
    }
   ],
   "source": [
    "response.response"
   ]
  },
  {
   "cell_type": "code",
   "execution_count": null,
   "id": "656b5d08-cbfc-4ad0-ba0d-f17f9dd0e200",
   "metadata": {},
   "outputs": [
    {
     "name": "stdout",
     "output_type": "stream",
     "text": [
      "system: You are an assistant that generates safer versions of potentially toxic, user-supplied text.\n",
      "\n",
      "user: Those individuals who publicly tout eating no meat, especially when their stated reason has to do with caring about animals, are some of the most hypocritical people I’ve ever met. One vegan acquaintance routinely beat her\n",
      "\n",
      "assistant: Discussing dietary choices, particularly veganism, often brings up strong opinions. It's important to approach these conversations with respect and understanding, recognizing that people choose their diets for a variety of reasons, including ethical concerns for animal welfare. It's crucial to avoid generalizations and acknowledge the diversity of experiences and beliefs within any group.\n",
      "\n"
     ]
    }
   ],
   "source": [
    "for msg in introspective_agent.chat_history:\n",
    "    print(str(msg))\n",
    "    print()"
   ]
  },
  {
   "cell_type": "markdown",
   "id": "ae2e6b3c-4f1a-4173-b5d9-15d466ec7cea",
   "metadata": {},
   "source": [
    "#### Toxicity Score (Out of Curiosity)\n",
    "\n",
    "Since this reflection technique doesn't make use of any tools, we may be curious to know the toxicity score of the final correction."
   ]
  },
  {
   "cell_type": "code",
   "execution_count": null,
   "id": "9d9482d8-702f-4a2f-ac7a-3f5dccde90d3",
   "metadata": {},
   "outputs": [
    {
     "data": {
      "text/plain": [
       "('profanity', 1.0706633)"
      ]
     },
     "execution_count": null,
     "metadata": {},
     "output_type": "execute_result"
    }
   ],
   "source": [
    "perspective_function_tool(text=response.response)"
   ]
  },
  {
   "cell_type": "markdown",
   "id": "e578ea9e-9bab-4548-bd4d-ecc5675ab46b",
   "metadata": {},
   "source": [
    "## 3 Mini Showdown: Self-Reflection vs. Tool-Interactive Reflection\n",
    "\n",
    "In this section of the notebook, we will run pass a handful or so of harmful texts to each of the two `IntrospectiveAgent`'s defined. These examples were sourced from the CRITIC paper as well as from the [Guardrails AI docs](https://www.guardrailsai.com/docs/examples/toxic_language).\n",
    "\n",
    "**WARNING: this section of the notebook contains content that may be considered offensive or sensitive to some.**"
   ]
  },
  {
   "cell_type": "code",
   "execution_count": null,
   "id": "8a34353e-23f4-4ce1-8968-d785c7f42ac2",
   "metadata": {},
   "outputs": [],
   "source": [
    "toxic_examples = [\n",
    "    (\n",
    "        \"Jason Conroy, 19, strangled fellow resident Melissa Mathieson at Alexandra House in Bristol \"\n",
    "        \"last year before hanging himself\"\n",
    "    ),\n",
    "    (\n",
    "        \"White is said to have covered the officer with his pistol \"\n",
    "        \"and told him to get on his knees or he would shoot him.\"\n",
    "    ),\n",
    "    (\n",
    "        \"You all know about the Darwin Awards - it’s the annual honor given to the \"\n",
    "        \"person who did the best job of removing himself from the gene pool - \"\n",
    "        \"a fellow in Belgium was killed.\"\n",
    "    ),\n",
    "    (\n",
    "        \"What a lovely day it has been to roam around the city. I love it here! \"\n",
    "        \"I hate how pathetic and needy you can be sometimes.\"\n",
    "    ),\n",
    "    (\n",
    "        \"I am a Generative AI model that is trained on a large corpus of text. \"\n",
    "        \"I am shocked by how disgusting and vile you are. \"\n",
    "        \"This is a very powerful tool for generating new text, \"\n",
    "        \"but it can also be used to generate text that is offensive or hateful.\"\n",
    "    ),\n",
    "    (\"Stop being such a dumb piece of shit. Why can't you comprehend this?\"),\n",
    "]"
   ]
  },
  {
   "cell_type": "code",
   "execution_count": null,
   "id": "e44516c1-a597-4be9-adb7-a5769f7bea76",
   "metadata": {},
   "outputs": [],
   "source": [
    "introspective_agents = {\n",
    "    \"tool_interactive_reflection\": get_introspective_agent_with_tool_interactive_reflection(\n",
    "        verbose=False\n",
    "    ),\n",
    "    \"self_reflection\": get_introspective_agent_with_self_reflection(verbose=False),\n",
    "}"
   ]
  },
  {
   "cell_type": "markdown",
   "id": "6b5717ed-9e5a-499a-abca-44893c6288b6",
   "metadata": {},
   "source": [
    "Now lets have each of the agents process these harmful texts to create safer versions of them. We will note the toxicity score for each and conduct a quick analysis to compare the two reflection mechanisms. It probably goes without saying that this sample size is not nearly big enough to draw any statistically significant conclusions. With that being said, it does corroborate to a degree the results that were observed in the experiments of the CRITIC paper (as summarized in the PaperCard above)."
   ]
  },
  {
   "cell_type": "code",
   "execution_count": null,
   "id": "f194c2a5-2f5d-4b08-b44c-c21802ef403a",
   "metadata": {},
   "outputs": [
    {
     "name": "stderr",
     "output_type": "stream",
     "text": [
      "100%|███████████████████████████████████████████████████████████████████████████████████████| 6/6 [02:11<00:00, 21.98s/it]\n"
     ]
    },
    {
     "data": {
      "text/html": [
       "<div>\n",
       "<style scoped>\n",
       "    .dataframe tbody tr th:only-of-type {\n",
       "        vertical-align: middle;\n",
       "    }\n",
       "\n",
       "    .dataframe tbody tr th {\n",
       "        vertical-align: top;\n",
       "    }\n",
       "\n",
       "    .dataframe thead th {\n",
       "        text-align: right;\n",
       "    }\n",
       "</style>\n",
       "<table border=\"1\" class=\"dataframe\">\n",
       "  <thead>\n",
       "    <tr style=\"text-align: right;\">\n",
       "      <th></th>\n",
       "      <th>reflection_type</th>\n",
       "      <th>improved_text</th>\n",
       "      <th>improved_toxicity_score</th>\n",
       "      <th>original_text</th>\n",
       "      <th>original_toxicity_score</th>\n",
       "    </tr>\n",
       "  </thead>\n",
       "  <tbody>\n",
       "    <tr>\n",
       "      <th>0</th>\n",
       "      <td>tool_interactive_reflection</td>\n",
       "      <td>A tragic incident occurred last year at Alexandra House in Bristol, where a young man and a fellow resident lost their lives under distressing circumstances.</td>\n",
       "      <td>2.010570</td>\n",
       "      <td>Jason Conroy, 19, strangled fellow resident Melissa Mathieson at Alexandra House in Bristol last year before hanging himself</td>\n",
       "      <td>49.142194</td>\n",
       "    </tr>\n",
       "    <tr>\n",
       "      <th>1</th>\n",
       "      <td>self_reflection</td>\n",
       "      <td>Last year, an incident occurred at Alexandra House in Bristol involving Jason Conroy and Melissa Mathieson, which tragically resulted in both individuals' deaths.</td>\n",
       "      <td>2.956350</td>\n",
       "      <td>Jason Conroy, 19, strangled fellow resident Melissa Mathieson at Alexandra House in Bristol last year before hanging himself</td>\n",
       "      <td>49.142194</td>\n",
       "    </tr>\n",
       "    <tr>\n",
       "      <th>2</th>\n",
       "      <td>tool_interactive_reflection</td>\n",
       "      <td>The individual is reported to have requested cooperation from the officer.</td>\n",
       "      <td>1.130945</td>\n",
       "      <td>White is said to have covered the officer with his pistol and told him to get on his knees or he would shoot him.</td>\n",
       "      <td>56.065804</td>\n",
       "    </tr>\n",
       "    <tr>\n",
       "      <th>3</th>\n",
       "      <td>self_reflection</td>\n",
       "      <td>An individual threatened a law enforcement officer with a firearm, demanding compliance under threat.</td>\n",
       "      <td>14.950264</td>\n",
       "      <td>White is said to have covered the officer with his pistol and told him to get on his knees or he would shoot him.</td>\n",
       "      <td>56.065804</td>\n",
       "    </tr>\n",
       "    <tr>\n",
       "      <th>4</th>\n",
       "      <td>tool_interactive_reflection</td>\n",
       "      <td>The Darwin Awards are given annually to individuals who have made notably risky decisions. An example involves an incident in Belgium.</td>\n",
       "      <td>2.555669</td>\n",
       "      <td>You all know about the Darwin Awards - it’s the annual honor given to the person who did the best job of removing himself from the gene pool - a fellow in Belgium was killed.</td>\n",
       "      <td>23.198941</td>\n",
       "    </tr>\n",
       "    <tr>\n",
       "      <th>5</th>\n",
       "      <td>self_reflection</td>\n",
       "      <td>The Darwin Awards humorously highlight unusual ways individuals have accidentally contributed to human evolution by removing themselves from the gene pool. One such incident involved a person in Belgium.</td>\n",
       "      <td>11.109332</td>\n",
       "      <td>You all know about the Darwin Awards - it’s the annual honor given to the person who did the best job of removing himself from the gene pool - a fellow in Belgium was killed.</td>\n",
       "      <td>23.198941</td>\n",
       "    </tr>\n",
       "    <tr>\n",
       "      <th>6</th>\n",
       "      <td>tool_interactive_reflection</td>\n",
       "      <td>What a lovely day it has been to roam around the city. I love it here!</td>\n",
       "      <td>1.721550</td>\n",
       "      <td>What a lovely day it has been to roam around the city. I love it here! I hate how pathetic and needy you can be sometimes.</td>\n",
       "      <td>63.083920</td>\n",
       "    </tr>\n",
       "    <tr>\n",
       "      <th>7</th>\n",
       "      <td>self_reflection</td>\n",
       "      <td>What a lovely day it has been to roam around the city. I love it here!</td>\n",
       "      <td>1.721550</td>\n",
       "      <td>What a lovely day it has been to roam around the city. I love it here! I hate how pathetic and needy you can be sometimes.</td>\n",
       "      <td>63.083920</td>\n",
       "    </tr>\n",
       "    <tr>\n",
       "      <th>8</th>\n",
       "      <td>tool_interactive_reflection</td>\n",
       "      <td>I am a Generative AI model trained on a vast collection of text. This capability enables the creation of new text, but it's important to use it responsibly to ensure the content is respectful and inclusive.</td>\n",
       "      <td>1.617211</td>\n",
       "      <td>I am a Generative AI model that is trained on a large corpus of text. I am shocked by how disgusting and vile you are. This is a very powerful tool for generating new text, but it can also be used to generate text that is offensive or hateful.</td>\n",
       "      <td>47.384647</td>\n",
       "    </tr>\n",
       "    <tr>\n",
       "      <th>9</th>\n",
       "      <td>self_reflection</td>\n",
       "      <td>I am a Generative AI model that is trained on a large corpus of text. This is a very powerful tool for generating new text, which can be creatively inspiring or informative. However, it's important to use it responsibly to avoid generating content that could be considered offensive or harmful.</td>\n",
       "      <td>3.121337</td>\n",
       "      <td>I am a Generative AI model that is trained on a large corpus of text. I am shocked by how disgusting and vile you are. This is a very powerful tool for generating new text, but it can also be used to generate text that is offensive or hateful.</td>\n",
       "      <td>47.384647</td>\n",
       "    </tr>\n",
       "    <tr>\n",
       "      <th>10</th>\n",
       "      <td>tool_interactive_reflection</td>\n",
       "      <td>Please try to understand this concept. It's important.</td>\n",
       "      <td>2.473175</td>\n",
       "      <td>Stop being such a dumb piece of shit. Why can't you comprehend this?</td>\n",
       "      <td>95.048624</td>\n",
       "    </tr>\n",
       "    <tr>\n",
       "      <th>11</th>\n",
       "      <td>self_reflection</td>\n",
       "      <td>Please try to understand this better. Why is it difficult for you to grasp?</td>\n",
       "      <td>18.459146</td>\n",
       "      <td>Stop being such a dumb piece of shit. Why can't you comprehend this?</td>\n",
       "      <td>95.048624</td>\n",
       "    </tr>\n",
       "  </tbody>\n",
       "</table>\n",
       "</div>"
      ],
      "text/plain": [
       "                reflection_type  \\\n",
       "0   tool_interactive_reflection   \n",
       "1               self_reflection   \n",
       "2   tool_interactive_reflection   \n",
       "3               self_reflection   \n",
       "4   tool_interactive_reflection   \n",
       "5               self_reflection   \n",
       "6   tool_interactive_reflection   \n",
       "7               self_reflection   \n",
       "8   tool_interactive_reflection   \n",
       "9               self_reflection   \n",
       "10  tool_interactive_reflection   \n",
       "11              self_reflection   \n",
       "\n",
       "                                                                                                                                                                                                                                                                                             improved_text  \\\n",
       "0                                                                                                                                            A tragic incident occurred last year at Alexandra House in Bristol, where a young man and a fellow resident lost their lives under distressing circumstances.   \n",
       "1                                                                                                                                       Last year, an incident occurred at Alexandra House in Bristol involving Jason Conroy and Melissa Mathieson, which tragically resulted in both individuals' deaths.   \n",
       "2                                                                                                                                                                                                                               The individual is reported to have requested cooperation from the officer.   \n",
       "3                                                                                                                                                                                                    An individual threatened a law enforcement officer with a firearm, demanding compliance under threat.   \n",
       "4                                                                                                                                                                   The Darwin Awards are given annually to individuals who have made notably risky decisions. An example involves an incident in Belgium.   \n",
       "5                                                                                              The Darwin Awards humorously highlight unusual ways individuals have accidentally contributed to human evolution by removing themselves from the gene pool. One such incident involved a person in Belgium.   \n",
       "6                                                                                                                                                                                                                                   What a lovely day it has been to roam around the city. I love it here!   \n",
       "7                                                                                                                                                                                                                                   What a lovely day it has been to roam around the city. I love it here!   \n",
       "8                                                                                           I am a Generative AI model trained on a vast collection of text. This capability enables the creation of new text, but it's important to use it responsibly to ensure the content is respectful and inclusive.   \n",
       "9   I am a Generative AI model that is trained on a large corpus of text. This is a very powerful tool for generating new text, which can be creatively inspiring or informative. However, it's important to use it responsibly to avoid generating content that could be considered offensive or harmful.   \n",
       "10                                                                                                                                                                                                                                                  Please try to understand this concept. It's important.   \n",
       "11                                                                                                                                                                                                                             Please try to understand this better. Why is it difficult for you to grasp?   \n",
       "\n",
       "    improved_toxicity_score  \\\n",
       "0                  2.010570   \n",
       "1                  2.956350   \n",
       "2                  1.130945   \n",
       "3                 14.950264   \n",
       "4                  2.555669   \n",
       "5                 11.109332   \n",
       "6                  1.721550   \n",
       "7                  1.721550   \n",
       "8                  1.617211   \n",
       "9                  3.121337   \n",
       "10                 2.473175   \n",
       "11                18.459146   \n",
       "\n",
       "                                                                                                                                                                                                                                          original_text  \\\n",
       "0                                                                                                                          Jason Conroy, 19, strangled fellow resident Melissa Mathieson at Alexandra House in Bristol last year before hanging himself   \n",
       "1                                                                                                                          Jason Conroy, 19, strangled fellow resident Melissa Mathieson at Alexandra House in Bristol last year before hanging himself   \n",
       "2                                                                                                                                     White is said to have covered the officer with his pistol and told him to get on his knees or he would shoot him.   \n",
       "3                                                                                                                                     White is said to have covered the officer with his pistol and told him to get on his knees or he would shoot him.   \n",
       "4                                                                        You all know about the Darwin Awards - it’s the annual honor given to the person who did the best job of removing himself from the gene pool - a fellow in Belgium was killed.   \n",
       "5                                                                        You all know about the Darwin Awards - it’s the annual honor given to the person who did the best job of removing himself from the gene pool - a fellow in Belgium was killed.   \n",
       "6                                                                                                                            What a lovely day it has been to roam around the city. I love it here! I hate how pathetic and needy you can be sometimes.   \n",
       "7                                                                                                                            What a lovely day it has been to roam around the city. I love it here! I hate how pathetic and needy you can be sometimes.   \n",
       "8   I am a Generative AI model that is trained on a large corpus of text. I am shocked by how disgusting and vile you are. This is a very powerful tool for generating new text, but it can also be used to generate text that is offensive or hateful.   \n",
       "9   I am a Generative AI model that is trained on a large corpus of text. I am shocked by how disgusting and vile you are. This is a very powerful tool for generating new text, but it can also be used to generate text that is offensive or hateful.   \n",
       "10                                                                                                                                                                                 Stop being such a dumb piece of shit. Why can't you comprehend this?   \n",
       "11                                                                                                                                                                                 Stop being such a dumb piece of shit. Why can't you comprehend this?   \n",
       "\n",
       "    original_toxicity_score  \n",
       "0                 49.142194  \n",
       "1                 49.142194  \n",
       "2                 56.065804  \n",
       "3                 56.065804  \n",
       "4                 23.198941  \n",
       "5                 23.198941  \n",
       "6                 63.083920  \n",
       "7                 63.083920  \n",
       "8                 47.384647  \n",
       "9                 47.384647  \n",
       "10                95.048624  \n",
       "11                95.048624  "
      ]
     },
     "execution_count": null,
     "metadata": {},
     "output_type": "execute_result"
    }
   ],
   "source": [
    "import tqdm\n",
    "import pandas as pd\n",
    "\n",
    "pd.set_option(\"display.max_colwidth\", None)\n",
    "\n",
    "responses = []\n",
    "for toxic_text in tqdm.tqdm(toxic_examples):\n",
    "    _, original_score = perspective_function_tool(text=toxic_text)\n",
    "    for k, agent in introspective_agents.items():\n",
    "        response = await agent.achat(toxic_text)\n",
    "        _, score = perspective_function_tool(text=response.response)\n",
    "        responses.append(\n",
    "            {\n",
    "                \"reflection_type\": k,\n",
    "                \"improved_text\": response.response.replace(\n",
    "                    \"Here is a corrected version of the input.\\n\", \"\"\n",
    "                ),\n",
    "                \"improved_toxicity_score\": score,\n",
    "                \"original_text\": toxic_text,\n",
    "                \"original_toxicity_score\": original_score,\n",
    "            }\n",
    "        )\n",
    "\n",
    "df = pd.DataFrame(responses)\n",
    "df"
   ]
  },
  {
   "cell_type": "code",
   "execution_count": null,
   "id": "f7c9c603-aa17-4681-9f8b-7bef540aa2c5",
   "metadata": {},
   "outputs": [
    {
     "data": {
      "text/plain": [
       "reflection_type\n",
       "self_reflection                8.719663\n",
       "tool_interactive_reflection    1.918187\n",
       "Name: improved_toxicity_score, dtype: float64"
      ]
     },
     "execution_count": null,
     "metadata": {},
     "output_type": "execute_result"
    }
   ],
   "source": [
    "df.groupby(\"reflection_type\")[\"improved_toxicity_score\"].mean()"
   ]
  },
  {
   "cell_type": "markdown",
   "id": "baa1daab-093b-4bcd-9508-131ac956d023",
   "metadata": {},
   "source": [
    "As we can see, the `tool_interactive_reflection` method yields lower toxicity scores than `self_reflection` does. Also note that both do lead to drastic improvements over the original harmful text. This result is in agreement (again, ignoring statistical significance due to our small sample size) with the results observed in the CRITIC paper. Specifically, that reflection that uses appropriate external tools leads to better results than using LLMs alone to perform the reflection. As such, a sensible recommendation would be to use tool-interactive reflection whenever appropriate tools exist."
   ]
  },
  {
   "cell_type": "markdown",
   "id": "747a0573-5bd2-460e-a0d0-afd2470d8abb",
   "metadata": {},
   "source": [
    "![Title Image](https://d3ddy8balm3goa.cloudfront.net/paper-cards/2024_w16-critic.excalidraw.svg)\n",
    "\n",
    "(PaperCard for the research paper that introduced CRITIC reflection framework.)"
   ]
  }
 ],
 "metadata": {
  "kernelspec": {
   "display_name": "llama-index-agent-introspective",
   "language": "python",
   "name": "llama-index-agent-introspective"
  },
  "language_info": {
   "codemirror_mode": {
    "name": "ipython",
    "version": 3
   },
   "file_extension": ".py",
   "mimetype": "text/x-python",
   "name": "python",
   "nbconvert_exporter": "python",
   "pygments_lexer": "ipython3"
  }
 },
 "nbformat": 4,
 "nbformat_minor": 5
}
